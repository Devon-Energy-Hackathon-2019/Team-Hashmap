{
 "cells": [
  {
   "cell_type": "code",
   "execution_count": null,
   "metadata": {
    "scrolled": true
   },
   "outputs": [],
   "source": [
    "from skimage import io, filters, measure, morphology, exposure\n",
    "from skimage.color import rgb2gray\n",
    "from skimage.util import img_as_ubyte\n",
    "from skimage.exposure import histogram\n",
    "from scipy import ndimage\n",
    "import numpy as np\n",
    "import matplotlib.pyplot as plt\n",
    "from skimage.feature import blob_doh,blob_dog, canny\n",
    "import matplotlib.patches as mpatches\n",
    "\n",
    "from skimage.filters import threshold_otsu\n",
    "from skimage.segmentation import clear_border\n",
    "from skimage.measure import label, regionprops\n",
    "from skimage.morphology import closing, square\n",
    "from skimage.color import label2rgb"
   ]
  },
  {
   "cell_type": "code",
   "execution_count": null,
   "metadata": {
    "scrolled": true
   },
   "outputs": [],
   "source": [
    "img_path = '../images/IMG_0648.JPG'\n",
    "#img_path = '../images/IMG_0613.JPG'\n",
    "img_rgb = io.imread(img_path)\n",
    "\n",
    "fig_rgb = plt.figure(dpi=200)\n",
    "ax_rgb = fig_rgb.add_subplot(1, 1, 1)\n",
    "ax_rgb.axis('off')\n",
    "ax_rgb.imshow(img_rgb)\n",
    "plt.show()"
   ]
  },
  {
   "cell_type": "code",
   "execution_count": null,
   "metadata": {
    "scrolled": true
   },
   "outputs": [],
   "source": [
    "img_gray = rgb2gray(img_rgb)\n",
    "\n",
    "img_gray_ubyte = img_as_ubyte(img_gray)\n",
    "hist, hist_centers = histogram(img_gray_ubyte)\n",
    "\n",
    "fig, ax = plt.subplots(ncols=2, figsize=(10, 5))\n",
    "\n",
    "ax[0].imshow(img_gray_ubyte, cmap=plt.cm.gray)\n",
    "ax[0].axis('off')\n",
    "\n",
    "ax[1].plot(hist_centers, hist, lw=2)\n",
    "ax[1].set_title('Histogram of grey values')\n",
    "\n",
    "fig.set_dpi(300)\n",
    "plt.tight_layout()"
   ]
  },
  {
   "cell_type": "code",
   "execution_count": null,
   "metadata": {
    "scrolled": true
   },
   "outputs": [],
   "source": [
    "# Contrast stretching\n",
    "p_start, p_end = np.percentile(img_gray, (1, 15))\n",
    "img_rescale = exposure.rescale_intensity(img_gray, in_range=(p_start, p_end))\n",
    "\n",
    "fig, (ax1, ax2) = plt.subplots(ncols=2, figsize=(20, 10))\n",
    "ax1.imshow(img_gray, cmap=plt.cm.gray)\n",
    "ax1.axis('off')\n",
    "ax2.imshow(img_rescale, cmap=plt.cm.gray)\n",
    "ax2.axis('off')\n",
    "plt.show()"
   ]
  },
  {
   "cell_type": "code",
   "execution_count": null,
   "metadata": {
    "scrolled": true
   },
   "outputs": [],
   "source": [
    "binary_ceiling = 0.25 * filters.threshold_mean(img_gray)\n",
    "img_binary_dirty = img_gray < binary_ceiling\n",
    "img_binary = morphology.remove_small_objects(img_binary_dirty, 2100)\n",
    "\n",
    "fig, (ax1, ax2) = plt.subplots(ncols=2, figsize=(20, 10))\n",
    "ax1.imshow(img_binary_dirty, cmap=plt.cm.gray)\n",
    "ax1.axis('off')\n",
    "ax2.imshow(img_binary, cmap=plt.cm.gray)\n",
    "ax2.axis('off')\n",
    "plt.show()\n"
   ]
  },
  {
   "cell_type": "code",
   "execution_count": null,
   "metadata": {
    "scrolled": true
   },
   "outputs": [],
   "source": [
    "fig, ax = plt.subplots(nrows=2, ncols=2)\n",
    "fig.set_dpi(300)\n",
    "\n",
    "edges = filters.sobel(img_gray)\n",
    "\n",
    "low = 0.1\n",
    "high = 0.35\n",
    "\n",
    "lowt = (edges > low).astype(int)\n",
    "hight = (edges > high).astype(int)\n",
    "hyst = filters.apply_hysteresis_threshold(edges, low, high)\n",
    "\n",
    "ax[0, 0].imshow(img_rgb)\n",
    "ax[0, 0].set_title('Original image')\n",
    "\n",
    "ax[0, 1].imshow(edges, cmap='magma')\n",
    "ax[0, 1].set_title('Sobel edges')\n",
    "\n",
    "ax[1, 0].imshow(lowt, cmap='magma')\n",
    "ax[1, 0].set_title('Low threshold')\n",
    "\n",
    "ax[1, 1].imshow(hight + hyst, cmap='magma')\n",
    "ax[1, 1].set_title('Hysteresis threshold')\n",
    "\n",
    "for a in ax.ravel():\n",
    "    a.axis('off')\n",
    "\n",
    "plt.tight_layout()\n",
    "\n",
    "plt.show()"
   ]
  },
  {
   "cell_type": "code",
   "execution_count": null,
   "metadata": {
    "scrolled": true
   },
   "outputs": [],
   "source": [
    "image = img_gray\n",
    "\n",
    "# apply threshold\n",
    "thresh = threshold_otsu(image)\n",
    "bw = closing(image > thresh, square(3))\n",
    "\n",
    "# remove artifacts connected to image border\n",
    "cleared = clear_border(bw)\n",
    "\n",
    "# label image regions\n",
    "label_image = label(cleared)\n",
    "image_label_overlay = label2rgb(label_image, image=image)\n",
    "\n",
    "fig, ax = plt.subplots(figsize=(10, 6))\n",
    "ax.imshow(image_label_overlay)\n",
    "\n",
    "for region in regionprops(label_image):\n",
    "    # take regions with large enough areas\n",
    "    if region.area >= 100:\n",
    "        # draw rectangle around segmented coins\n",
    "        minr, minc, maxr, maxc = region.bbox\n",
    "        rect = mpatches.Rectangle((minc, minr), maxc - minc, maxr - minr,\n",
    "                                  fill=False, edgecolor='red', linewidth=2)\n",
    "        ax.add_patch(rect)\n",
    "\n",
    "ax.set_axis_off()\n",
    "plt.tight_layout()\n",
    "plt.show()"
   ]
  },
  {
   "cell_type": "code",
   "execution_count": null,
   "metadata": {
    "scrolled": true
   },
   "outputs": [],
   "source": [
    "# invert image\n",
    "from skimage import util\n",
    "img_gray_inverted = util.invert(img_rescale)\n",
    "\n",
    "# Compute the Canny filter for two values of sigma\n",
    "edges1 = canny(img_gray_inverted)\n",
    "edges2 = canny(img_gray_inverted, sigma=2)\n",
    "\n",
    "# display results\n",
    "fig, (ax1, ax2, ax3) = plt.subplots(nrows=1, ncols=3, sharex=True, sharey=True)\n",
    "fig.set_dpi(250)\n",
    "\n",
    "ax1.imshow(img_gray_inverted, cmap=plt.cm.gray)\n",
    "ax1.axis('off')\n",
    "\n",
    "ax2.imshow(edges1, cmap=plt.cm.gray)\n",
    "ax2.axis('off')\n",
    "\n",
    "ax3.imshow(edges2, cmap=plt.cm.gray)\n",
    "ax3.axis('off')\n",
    "\n",
    "fig.tight_layout()\n",
    "\n",
    "plt.show()\n"
   ]
  },
  {
   "cell_type": "code",
   "execution_count": null,
   "metadata": {
    "scrolled": true
   },
   "outputs": [],
   "source": [
    "dog_blobs = blob_dog(img_gray_inverted, max_sigma=150, min_sigma=45, threshold=0.01, overlap=0.01)"
   ]
  },
  {
   "cell_type": "code",
   "execution_count": null,
   "metadata": {
    "scrolled": true
   },
   "outputs": [],
   "source": [
    "fig = plt.figure(dpi=300)\n",
    "ax = fig.add_subplot(1, 1, 1)\n",
    "\n",
    "blobs = dog_blobs\n",
    "ax.imshow(img_rgb)\n",
    "for blob in blobs:\n",
    "    y, x, r = blob\n",
    "    c = plt.Circle((x, y), r, color='cyan', linewidth=2, fill=False)\n",
    "    ax.add_patch(c)\n",
    "ax.set_axis_off()\n",
    "\n",
    "\n",
    "print(f\"Found {len(blobs)} pipes. About 36 are present\")\n",
    "plt.show()"
   ]
  },
  {
   "cell_type": "code",
   "execution_count": null,
   "metadata": {
    "scrolled": true
   },
   "outputs": [],
   "source": [
    "doh_blobs = [\n",
    "    blob_doh(img_gray_inverted, max_sigma=150, min_sigma=45, threshold=0.001, overlap=0.01),\n",
    "    blob_doh(img_gray_inverted, max_sigma=150, min_sigma=45, threshold=0.002, overlap=0.01),\n",
    "    blob_doh(img_gray_inverted, max_sigma=150, min_sigma=45, threshold=0.005, overlap=0.01),\n",
    "    blob_doh(img_gray_inverted, max_sigma=150, min_sigma=45, threshold=0.01, overlap=0.01),\n",
    "    blob_doh(img_gray_inverted, max_sigma=150, min_sigma=45, threshold=0.02, overlap=0.01),\n",
    "    blob_doh(img_gray_inverted, max_sigma=150, min_sigma=45, threshold=0.05, overlap=0.01)]\n",
    "    "
   ]
  },
  {
   "cell_type": "code",
   "execution_count": null,
   "metadata": {
    "scrolled": false
   },
   "outputs": [],
   "source": [
    "for blobs in doh_blobs:\n",
    "    fig = plt.figure(dpi=100)\n",
    "    ax = fig.add_subplot(1, 1, 1)\n",
    "    ax.imshow(img_rgb)\n",
    "    for blob in blobs:\n",
    "        y, x, r = blob\n",
    "        c = plt.Circle((x, y), r, color='r', linewidth=2, fill=False)\n",
    "        ax.add_patch(c)\n",
    "    ax.set_axis_off()\n",
    "    \n",
    "    print(f\"Found {len(blobs)} pipes. About 36 are present\")\n",
    "    plt.show()"
   ]
  },
  {
   "cell_type": "code",
   "execution_count": null,
   "metadata": {
    "scrolled": true
   },
   "outputs": [],
   "source": []
  }
 ],
 "metadata": {
  "kernelspec": {
   "display_name": "Python 3",
   "language": "python",
   "name": "python3"
  },
  "language_info": {
   "codemirror_mode": {
    "name": "ipython",
    "version": 3
   },
   "file_extension": ".py",
   "mimetype": "text/x-python",
   "name": "python",
   "nbconvert_exporter": "python",
   "pygments_lexer": "ipython3",
   "version": "3.7.0"
  }
 },
 "nbformat": 4,
 "nbformat_minor": 2
}
